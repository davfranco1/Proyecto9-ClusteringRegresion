{
 "cells": [
  {
   "cell_type": "markdown",
   "metadata": {},
   "source": [
    "# Notebook #3: Gestión de Outliers"
   ]
  },
  {
   "cell_type": "code",
   "execution_count": 1,
   "metadata": {},
   "outputs": [],
   "source": [
    "%load_ext autoreload\n",
    "%autoreload 2\n",
    "\n",
    "# Tratamiento de datos\n",
    "# -----------------------------------------------------------------------\n",
    "import pandas as pd\n",
    "import numpy as np\n",
    "import pickle\n",
    "\n",
    "# Configuración\n",
    "# -----------------------------------------------------------------------\n",
    "pd.set_option('display.max_columns', None) # para poder visualizar todas las columnas de los DataFrames\n",
    "\n",
    "# Ignorar los warnings\n",
    "# -----------------------------------------------------------------------\n",
    "import warnings\n",
    "warnings.filterwarnings('ignore')\n",
    "\n",
    "# Librería para el acceso a variables y funciones\n",
    "# -----------------------------------------------------------------------\n",
    "import sys\n",
    "sys.path.append(\"../../../../\")\n",
    "from src import soporte_preprocesamiento as sp"
   ]
  },
  {
   "cell_type": "markdown",
   "metadata": {},
   "source": [
    "- Importamos el dataframe generado en el notebook anterior."
   ]
  },
  {
   "cell_type": "code",
   "execution_count": 2,
   "metadata": {},
   "outputs": [
    {
     "data": {
      "text/html": [
       "<div>\n",
       "<style scoped>\n",
       "    .dataframe tbody tr th:only-of-type {\n",
       "        vertical-align: middle;\n",
       "    }\n",
       "\n",
       "    .dataframe tbody tr th {\n",
       "        vertical-align: top;\n",
       "    }\n",
       "\n",
       "    .dataframe thead th {\n",
       "        text-align: right;\n",
       "    }\n",
       "</style>\n",
       "<table border=\"1\" class=\"dataframe\">\n",
       "  <thead>\n",
       "    <tr style=\"text-align: right;\">\n",
       "      <th></th>\n",
       "      <th>Profit</th>\n",
       "      <th>Ship Mode</th>\n",
       "      <th>Country</th>\n",
       "      <th>Market</th>\n",
       "      <th>Region</th>\n",
       "      <th>Category</th>\n",
       "      <th>Sub-Category</th>\n",
       "      <th>Quantity</th>\n",
       "      <th>Discount</th>\n",
       "      <th>Order Priority</th>\n",
       "    </tr>\n",
       "  </thead>\n",
       "  <tbody>\n",
       "    <tr>\n",
       "      <th>0</th>\n",
       "      <td>-96.5400</td>\n",
       "      <td>18.144652</td>\n",
       "      <td>34.557165</td>\n",
       "      <td>25.847096</td>\n",
       "      <td>21.591716</td>\n",
       "      <td>62.629774</td>\n",
       "      <td>62.044307</td>\n",
       "      <td>5</td>\n",
       "      <td>0.1</td>\n",
       "      <td>19.484122</td>\n",
       "    </tr>\n",
       "    <tr>\n",
       "      <th>1</th>\n",
       "      <td>83.2810</td>\n",
       "      <td>19.359450</td>\n",
       "      <td>21.648691</td>\n",
       "      <td>21.648691</td>\n",
       "      <td>16.231600</td>\n",
       "      <td>15.716697</td>\n",
       "      <td>9.696875</td>\n",
       "      <td>5</td>\n",
       "      <td>0.0</td>\n",
       "      <td>18.944620</td>\n",
       "    </tr>\n",
       "    <tr>\n",
       "      <th>2</th>\n",
       "      <td>622.0200</td>\n",
       "      <td>22.220662</td>\n",
       "      <td>15.185094</td>\n",
       "      <td>16.720197</td>\n",
       "      <td>16.231600</td>\n",
       "      <td>38.094237</td>\n",
       "      <td>44.833869</td>\n",
       "      <td>7</td>\n",
       "      <td>0.0</td>\n",
       "      <td>33.470448</td>\n",
       "    </tr>\n",
       "    <tr>\n",
       "      <th>3</th>\n",
       "      <td>363.9048</td>\n",
       "      <td>18.144652</td>\n",
       "      <td>21.648691</td>\n",
       "      <td>21.648691</td>\n",
       "      <td>26.827045</td>\n",
       "      <td>62.629774</td>\n",
       "      <td>62.044307</td>\n",
       "      <td>8</td>\n",
       "      <td>0.2</td>\n",
       "      <td>18.944620</td>\n",
       "    </tr>\n",
       "    <tr>\n",
       "      <th>4</th>\n",
       "      <td>632.5200</td>\n",
       "      <td>19.602192</td>\n",
       "      <td>44.849984</td>\n",
       "      <td>21.959525</td>\n",
       "      <td>35.467384</td>\n",
       "      <td>62.629774</td>\n",
       "      <td>62.044307</td>\n",
       "      <td>7</td>\n",
       "      <td>0.0</td>\n",
       "      <td>18.944620</td>\n",
       "    </tr>\n",
       "  </tbody>\n",
       "</table>\n",
       "</div>"
      ],
      "text/plain": [
       "     Profit  Ship Mode    Country     Market     Region   Category  \\\n",
       "0  -96.5400  18.144652  34.557165  25.847096  21.591716  62.629774   \n",
       "1   83.2810  19.359450  21.648691  21.648691  16.231600  15.716697   \n",
       "2  622.0200  22.220662  15.185094  16.720197  16.231600  38.094237   \n",
       "3  363.9048  18.144652  21.648691  21.648691  26.827045  62.629774   \n",
       "4  632.5200  19.602192  44.849984  21.959525  35.467384  62.629774   \n",
       "\n",
       "   Sub-Category  Quantity  Discount  Order Priority  \n",
       "0     62.044307         5       0.1       19.484122  \n",
       "1      9.696875         5       0.0       18.944620  \n",
       "2     44.833869         7       0.0       33.470448  \n",
       "3     62.044307         8       0.2       18.944620  \n",
       "4     62.044307         7       0.0       18.944620  "
      ]
     },
     "execution_count": 2,
     "metadata": {},
     "output_type": "execute_result"
    }
   ],
   "source": [
    "df = pd.read_pickle('../../../../datos/cluster1/modelo1/df_encoded.pkl')\n",
    "df.head()"
   ]
  },
  {
   "cell_type": "markdown",
   "metadata": {},
   "source": [
    "- Transformamos temporalmente las columnas que deben ser categóricas pero durante el encoding se han convertido en numéricas."
   ]
  },
  {
   "cell_type": "code",
   "execution_count": 3,
   "metadata": {},
   "outputs": [],
   "source": [
    "df[['Ship Mode', 'Country', 'Market', 'Region', 'Category', 'Sub-Category', 'Order Priority']] = df[['Ship Mode', 'Country', 'Market', 'Region', 'Category', 'Sub-Category', 'Order Priority']].astype(str)"
   ]
  },
  {
   "cell_type": "markdown",
   "metadata": {},
   "source": [
    "- Como hemos detectado en el EDA, tenemos outliers en las tres features numéricas. Los de Quantity y Discount, se encuentran dentro de los valores normales (lo vemos en la escala), y en el caso de Profit, surgen de la variabilidad propia que puede tener una categoría como esta. Lo vemos en los box plots:"
   ]
  },
  {
   "cell_type": "code",
   "execution_count": 4,
   "metadata": {},
   "outputs": [
    {
     "data": {
      "image/png": "[encoded data removed]",
      "text/plain": [
       "<Figure size 2000x300 with 3 Axes>"
      ]
     },
     "metadata": {},
     "output_type": "display_data"
    }
   ],
   "source": [
    "sp.detectar_outliers(df, tamano_grafica=(20,3))"
   ]
  },
  {
   "cell_type": "markdown",
   "metadata": {},
   "source": [
    "- Para verlos numéricamente, vamos a recurrir al método IFO."
   ]
  },
  {
   "cell_type": "code",
   "execution_count": 5,
   "metadata": {},
   "outputs": [],
   "source": [
    "df = sp.outliers_isolation_forest(df)"
   ]
  },
  {
   "cell_type": "markdown",
   "metadata": {},
   "source": [
    "- Filtramos aquellos para los cuáles en el 70% de las combinacines, son outliers. Sabiendo que representan un 1,4% del conjunto original, los vamos a eliminar."
   ]
  },
  {
   "cell_type": "code",
   "execution_count": 6,
   "metadata": {},
   "outputs": [
    {
     "name": "stdout",
     "output_type": "stream",
     "text": [
      "Se han filtrado 440 filas, que representan un 1.36% del dataframe original.\n"
     ]
    },
    {
     "data": {
      "text/html": [
       "<div>\n",
       "<style scoped>\n",
       "    .dataframe tbody tr th:only-of-type {\n",
       "        vertical-align: middle;\n",
       "    }\n",
       "\n",
       "    .dataframe tbody tr th {\n",
       "        vertical-align: top;\n",
       "    }\n",
       "\n",
       "    .dataframe thead th {\n",
       "        text-align: right;\n",
       "    }\n",
       "</style>\n",
       "<table border=\"1\" class=\"dataframe\">\n",
       "  <thead>\n",
       "    <tr style=\"text-align: right;\">\n",
       "      <th></th>\n",
       "      <th>Profit</th>\n",
       "      <th>Ship Mode</th>\n",
       "      <th>Country</th>\n",
       "      <th>Market</th>\n",
       "      <th>Region</th>\n",
       "      <th>Category</th>\n",
       "      <th>Sub-Category</th>\n",
       "      <th>Quantity</th>\n",
       "      <th>Discount</th>\n",
       "      <th>Order Priority</th>\n",
       "      <th>outliers_ifo_0.01_50</th>\n",
       "      <th>outliers_ifo_0.01_100</th>\n",
       "      <th>outliers_ifo_0.01_200</th>\n",
       "      <th>outliers_ifo_0.05_50</th>\n",
       "      <th>outliers_ifo_0.05_100</th>\n",
       "      <th>outliers_ifo_0.05_200</th>\n",
       "      <th>outliers_ifo_0.1_50</th>\n",
       "      <th>outliers_ifo_0.1_100</th>\n",
       "      <th>outliers_ifo_0.1_200</th>\n",
       "    </tr>\n",
       "  </thead>\n",
       "  <tbody>\n",
       "    <tr>\n",
       "      <th>2</th>\n",
       "      <td>622.0200</td>\n",
       "      <td>22.22066194331984</td>\n",
       "      <td>15.18509410548087</td>\n",
       "      <td>16.72019706943336</td>\n",
       "      <td>16.23160015044892</td>\n",
       "      <td>38.09423667439165</td>\n",
       "      <td>44.833868800000005</td>\n",
       "      <td>7</td>\n",
       "      <td>0.0</td>\n",
       "      <td>33.47044804185351</td>\n",
       "      <td>-1</td>\n",
       "      <td>-1</td>\n",
       "      <td>-1</td>\n",
       "      <td>-1</td>\n",
       "      <td>-1</td>\n",
       "      <td>-1</td>\n",
       "      <td>-1</td>\n",
       "      <td>-1</td>\n",
       "      <td>-1</td>\n",
       "    </tr>\n",
       "    <tr>\n",
       "      <th>3</th>\n",
       "      <td>363.9048</td>\n",
       "      <td>18.144652104256338</td>\n",
       "      <td>21.648691224655312</td>\n",
       "      <td>21.648691224655312</td>\n",
       "      <td>26.8270448631905</td>\n",
       "      <td>62.629773641488164</td>\n",
       "      <td>62.04430696864112</td>\n",
       "      <td>8</td>\n",
       "      <td>0.2</td>\n",
       "      <td>18.94461962831689</td>\n",
       "      <td>1</td>\n",
       "      <td>-1</td>\n",
       "      <td>-1</td>\n",
       "      <td>-1</td>\n",
       "      <td>-1</td>\n",
       "      <td>-1</td>\n",
       "      <td>-1</td>\n",
       "      <td>-1</td>\n",
       "      <td>-1</td>\n",
       "    </tr>\n",
       "    <tr>\n",
       "      <th>4</th>\n",
       "      <td>632.5200</td>\n",
       "      <td>19.60219157116994</td>\n",
       "      <td>44.84998366013072</td>\n",
       "      <td>21.959524522582598</td>\n",
       "      <td>35.46738352745424</td>\n",
       "      <td>62.629773641488164</td>\n",
       "      <td>62.04430696864112</td>\n",
       "      <td>7</td>\n",
       "      <td>0.0</td>\n",
       "      <td>18.94461962831689</td>\n",
       "      <td>-1</td>\n",
       "      <td>-1</td>\n",
       "      <td>-1</td>\n",
       "      <td>-1</td>\n",
       "      <td>-1</td>\n",
       "      <td>-1</td>\n",
       "      <td>-1</td>\n",
       "      <td>-1</td>\n",
       "      <td>-1</td>\n",
       "    </tr>\n",
       "    <tr>\n",
       "      <th>9</th>\n",
       "      <td>513.3600</td>\n",
       "      <td>22.22066194331984</td>\n",
       "      <td>32.18702427184466</td>\n",
       "      <td>25.847096410178732</td>\n",
       "      <td>21.591716298157454</td>\n",
       "      <td>15.716697078215004</td>\n",
       "      <td>70.53398103225807</td>\n",
       "      <td>5</td>\n",
       "      <td>0.1</td>\n",
       "      <td>33.47044804185351</td>\n",
       "      <td>-1</td>\n",
       "      <td>1</td>\n",
       "      <td>1</td>\n",
       "      <td>-1</td>\n",
       "      <td>-1</td>\n",
       "      <td>-1</td>\n",
       "      <td>-1</td>\n",
       "      <td>-1</td>\n",
       "      <td>-1</td>\n",
       "    </tr>\n",
       "    <tr>\n",
       "      <th>13</th>\n",
       "      <td>747.8160</td>\n",
       "      <td>22.22066194331984</td>\n",
       "      <td>21.0356625</td>\n",
       "      <td>21.959524522582598</td>\n",
       "      <td>20.28234693877551</td>\n",
       "      <td>15.716697078215004</td>\n",
       "      <td>70.53398103225807</td>\n",
       "      <td>8</td>\n",
       "      <td>0.1</td>\n",
       "      <td>18.94461962831689</td>\n",
       "      <td>-1</td>\n",
       "      <td>-1</td>\n",
       "      <td>-1</td>\n",
       "      <td>-1</td>\n",
       "      <td>-1</td>\n",
       "      <td>-1</td>\n",
       "      <td>-1</td>\n",
       "      <td>-1</td>\n",
       "      <td>-1</td>\n",
       "    </tr>\n",
       "  </tbody>\n",
       "</table>\n",
       "</div>"
      ],
      "text/plain": [
       "      Profit           Ship Mode             Country              Market  \\\n",
       "2   622.0200   22.22066194331984   15.18509410548087   16.72019706943336   \n",
       "3   363.9048  18.144652104256338  21.648691224655312  21.648691224655312   \n",
       "4   632.5200   19.60219157116994   44.84998366013072  21.959524522582598   \n",
       "9   513.3600   22.22066194331984   32.18702427184466  25.847096410178732   \n",
       "13  747.8160   22.22066194331984          21.0356625  21.959524522582598   \n",
       "\n",
       "                Region            Category        Sub-Category  Quantity  \\\n",
       "2    16.23160015044892   38.09423667439165  44.833868800000005         7   \n",
       "3     26.8270448631905  62.629773641488164   62.04430696864112         8   \n",
       "4    35.46738352745424  62.629773641488164   62.04430696864112         7   \n",
       "9   21.591716298157454  15.716697078215004   70.53398103225807         5   \n",
       "13   20.28234693877551  15.716697078215004   70.53398103225807         8   \n",
       "\n",
       "    Discount     Order Priority  outliers_ifo_0.01_50  outliers_ifo_0.01_100  \\\n",
       "2        0.0  33.47044804185351                    -1                     -1   \n",
       "3        0.2  18.94461962831689                     1                     -1   \n",
       "4        0.0  18.94461962831689                    -1                     -1   \n",
       "9        0.1  33.47044804185351                    -1                      1   \n",
       "13       0.1  18.94461962831689                    -1                     -1   \n",
       "\n",
       "    outliers_ifo_0.01_200  outliers_ifo_0.05_50  outliers_ifo_0.05_100  \\\n",
       "2                      -1                    -1                     -1   \n",
       "3                      -1                    -1                     -1   \n",
       "4                      -1                    -1                     -1   \n",
       "9                       1                    -1                     -1   \n",
       "13                     -1                    -1                     -1   \n",
       "\n",
       "    outliers_ifo_0.05_200  outliers_ifo_0.1_50  outliers_ifo_0.1_100  \\\n",
       "2                      -1                   -1                    -1   \n",
       "3                      -1                   -1                    -1   \n",
       "4                      -1                   -1                    -1   \n",
       "9                      -1                   -1                    -1   \n",
       "13                     -1                   -1                    -1   \n",
       "\n",
       "    outliers_ifo_0.1_200  \n",
       "2                     -1  \n",
       "3                     -1  \n",
       "4                     -1  \n",
       "9                     -1  \n",
       "13                    -1  "
      ]
     },
     "metadata": {},
     "output_type": "display_data"
    },
    {
     "name": "stdout",
     "output_type": "stream",
     "text": [
      "Se han eliminado 440 filas (1.0%) del dataframe original.\n"
     ]
    }
   ],
   "source": [
    "df, df_filtrado = sp.filtrar_outliers(df, 0.7, drop_indices=True)\n",
    "df.reset_index(inplace=True, drop=True)"
   ]
  },
  {
   "cell_type": "markdown",
   "metadata": {},
   "source": [
    "- Y nuevamente con la ayuda de los boxplots, vemos que, nuestras features ahora se encuentran más libres de outliers."
   ]
  },
  {
   "cell_type": "code",
   "execution_count": 7,
   "metadata": {},
   "outputs": [
    {
     "data": {
      "image/png": "[encoded data removed]",
      "text/plain": [
       "<Figure size 2000x300 with 3 Axes>"
      ]
     },
     "metadata": {},
     "output_type": "display_data"
    }
   ],
   "source": [
    "sp.detectar_outliers(df_filtrado, tamano_grafica=(20,3))"
   ]
  },
  {
   "cell_type": "markdown",
   "metadata": {},
   "source": [
    "- Como último paso, guardamos el DF para llevarlo al siguiente paso: la estandarización."
   ]
  },
  {
   "cell_type": "code",
   "execution_count": 8,
   "metadata": {},
   "outputs": [],
   "source": [
    "with open('../../../../datos/cluster1/modelo1/df_sinoutliers.pkl', 'wb') as f:\n",
    "    pickle.dump(df, f)"
   ]
  }
 ],
 "metadata": {
  "kernelspec": {
   "display_name": "Python 3",
   "language": "python",
   "name": "python3"
  },
  "language_info": {
   "codemirror_mode": {
    "name": "ipython",
    "version": 3
   },
   "file_extension": ".py",
   "mimetype": "text/x-python",
   "name": "python",
   "nbconvert_exporter": "python",
   "pygments_lexer": "ipython3",
   "version": "3.9.6"
  }
 },
 "nbformat": 4,
 "nbformat_minor": 2
}
