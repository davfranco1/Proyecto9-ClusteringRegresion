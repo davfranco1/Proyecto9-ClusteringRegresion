{
 "cells": [
  {
   "cell_type": "markdown",
   "metadata": {},
   "source": [
    "# Notebook #5: Modelado de los datos"
   ]
  },
  {
   "cell_type": "code",
   "execution_count": 1,
   "metadata": {},
   "outputs": [],
   "source": [
    "%load_ext autoreload\n",
    "%autoreload 2\n",
    "\n",
    "# Tratamiento de datos\n",
    "# -----------------------------------------------------------------------\n",
    "import pandas as pd\n",
    "import numpy as np\n",
    "import pickle\n",
    "pd.set_option('display.max_columns', None) # para poder visualizar todas las columnas de los DataFrames\n",
    "\n",
    "# Para realizar la evaluación del modelo\n",
    "# -----------------------------------------------------------------------\n",
    "from sklearn.model_selection import train_test_split,GridSearchCV\n",
    "from sklearn.tree import DecisionTreeRegressor, plot_tree\n",
    "from sklearn.ensemble import RandomForestRegressor, GradientBoostingRegressor\n",
    "from xgboost import XGBRegressor\n",
    "\n",
    "# Visualizaciones\n",
    "# -----------------------------------------------------------------------\n",
    "import seaborn as sns\n",
    "import matplotlib.pyplot as plt\n",
    "from sklearn import tree\n",
    "\n",
    "# Ignorar los warnings\n",
    "# -----------------------------------------------------------------------\n",
    "import warnings\n",
    "warnings.filterwarnings('ignore')\n",
    "\n",
    "# Librería para el acceso a variables y funciones\n",
    "# -----------------------------------------------------------------------\n",
    "import sys\n",
    "sys.path.append(\"../../../../\")\n",
    "from src import soporte_modelos as sm"
   ]
  },
  {
   "cell_type": "markdown",
   "metadata": {},
   "source": [
    "- El primer paso consiste en cargar los datos ya estandarizados."
   ]
  },
  {
   "cell_type": "code",
   "execution_count": 15,
   "metadata": {},
   "outputs": [
    {
     "data": {
      "text/html": [
       "<div>\n",
       "<style scoped>\n",
       "    .dataframe tbody tr th:only-of-type {\n",
       "        vertical-align: middle;\n",
       "    }\n",
       "\n",
       "    .dataframe tbody tr th {\n",
       "        vertical-align: top;\n",
       "    }\n",
       "\n",
       "    .dataframe thead th {\n",
       "        text-align: right;\n",
       "    }\n",
       "</style>\n",
       "<table border=\"1\" class=\"dataframe\">\n",
       "  <thead>\n",
       "    <tr style=\"text-align: right;\">\n",
       "      <th></th>\n",
       "      <th>Profit</th>\n",
       "      <th>Ship Mode</th>\n",
       "      <th>Country</th>\n",
       "      <th>Market</th>\n",
       "      <th>Region</th>\n",
       "      <th>Category</th>\n",
       "      <th>Sub-Category</th>\n",
       "      <th>Quantity</th>\n",
       "      <th>Discount</th>\n",
       "      <th>Order Priority</th>\n",
       "    </tr>\n",
       "  </thead>\n",
       "  <tbody>\n",
       "    <tr>\n",
       "      <th>1867</th>\n",
       "      <td>123.690</td>\n",
       "      <td>-1.321221</td>\n",
       "      <td>1.911099</td>\n",
       "      <td>1.197808</td>\n",
       "      <td>2.515868</td>\n",
       "      <td>-0.598578</td>\n",
       "      <td>-1.044742</td>\n",
       "      <td>1.721432</td>\n",
       "      <td>-0.732116</td>\n",
       "      <td>1.008626</td>\n",
       "    </tr>\n",
       "    <tr>\n",
       "      <th>15403</th>\n",
       "      <td>-21.360</td>\n",
       "      <td>0.915341</td>\n",
       "      <td>-0.302501</td>\n",
       "      <td>1.197808</td>\n",
       "      <td>0.165599</td>\n",
       "      <td>-0.598578</td>\n",
       "      <td>-1.044742</td>\n",
       "      <td>0.300134</td>\n",
       "      <td>1.287113</td>\n",
       "      <td>0.166054</td>\n",
       "    </tr>\n",
       "    <tr>\n",
       "      <th>8417</th>\n",
       "      <td>-106.083</td>\n",
       "      <td>0.915341</td>\n",
       "      <td>-1.528032</td>\n",
       "      <td>1.197808</td>\n",
       "      <td>-1.369553</td>\n",
       "      <td>1.032808</td>\n",
       "      <td>1.942129</td>\n",
       "      <td>-0.173632</td>\n",
       "      <td>1.135671</td>\n",
       "      <td>0.166054</td>\n",
       "    </tr>\n",
       "    <tr>\n",
       "      <th>634</th>\n",
       "      <td>-204.312</td>\n",
       "      <td>-0.500886</td>\n",
       "      <td>0.171389</td>\n",
       "      <td>-0.729114</td>\n",
       "      <td>0.722216</td>\n",
       "      <td>-0.598578</td>\n",
       "      <td>0.856816</td>\n",
       "      <td>1.247666</td>\n",
       "      <td>0.277499</td>\n",
       "      <td>0.166054</td>\n",
       "    </tr>\n",
       "    <tr>\n",
       "      <th>12499</th>\n",
       "      <td>-33.666</td>\n",
       "      <td>0.915341</td>\n",
       "      <td>-2.453927</td>\n",
       "      <td>-1.211900</td>\n",
       "      <td>-0.748487</td>\n",
       "      <td>1.032808</td>\n",
       "      <td>0.012213</td>\n",
       "      <td>-1.121165</td>\n",
       "      <td>2.296728</td>\n",
       "      <td>0.166054</td>\n",
       "    </tr>\n",
       "  </tbody>\n",
       "</table>\n",
       "</div>"
      ],
      "text/plain": [
       "        Profit  Ship Mode   Country    Market    Region  Category  \\\n",
       "1867   123.690  -1.321221  1.911099  1.197808  2.515868 -0.598578   \n",
       "15403  -21.360   0.915341 -0.302501  1.197808  0.165599 -0.598578   \n",
       "8417  -106.083   0.915341 -1.528032  1.197808 -1.369553  1.032808   \n",
       "634   -204.312  -0.500886  0.171389 -0.729114  0.722216 -0.598578   \n",
       "12499  -33.666   0.915341 -2.453927 -1.211900 -0.748487  1.032808   \n",
       "\n",
       "       Sub-Category  Quantity  Discount  Order Priority  \n",
       "1867      -1.044742  1.721432 -0.732116        1.008626  \n",
       "15403     -1.044742  0.300134  1.287113        0.166054  \n",
       "8417       1.942129 -0.173632  1.135671        0.166054  \n",
       "634        0.856816  1.247666  0.277499        0.166054  \n",
       "12499      0.012213 -1.121165  2.296728        0.166054  "
      ]
     },
     "execution_count": 15,
     "metadata": {},
     "output_type": "execute_result"
    }
   ],
   "source": [
    "df = pd.read_pickle('../../../../datos/cluster0/modelo2/df_scaled')\n",
    "df.sample(5)"
   ]
  },
  {
   "cell_type": "markdown",
   "metadata": {},
   "source": [
    "- Para nuestros modelos, utilizaremos el Decision Tree y otros tres modelos de ensamble: el Random Forest, el Gradient Boost y el XGBoost, que se usan en modelos de clasificación y de regresión.\n",
    "\n",
    "- Nuestro problema es de regresión, por cuanto estamos intentando predecir valores continuos, en este caso, el beneficio. Un valor continuo es un tipo de dato numérico que puede tomar cualquier valor dentro de un rango determinado.\n",
    "\n",
    "- Los Decision Tree son especialmente efectivos en problemas con interacciones no lineales y datos con diferentes tipos de variables (numéricas y categóricas). Son robustos frente a outliers y pueden gestionar conjuntos con valores faltantes. Sin embargo, son propensos al overfitting. Es entonces cuando podemos recurrir a los modelos de ensamble, para mejorar su estabilidad y precisión.\n",
    "\n",
    "- El Random Forest puede funcionar mejor cuando tenemos conjuntos de datos grandes o mucho ruido en nuestros datos, pero puede ser menos efectivo para captar variaciones más pequeñas. Es más sencillo configurar los hiperparámetros. Es un modelo de Bagging, donde creamos un bosque (paralelo), no nos quedamos con un sólo árbol, y el resultado es la media de sus medias.\n",
    "\n",
    "- Con Gradient Boosting, las predicciones suelen ser más acertadas, dado que la secuencia árboles tiende a reducir los errores. Normalmente tarda más para converger. Es más probable tener overfitting. En los modelos de Boosting, se aprende de los datos en la primera iteración (se predice la variable respuesta) pero en las posteriores, aprende de los errores cometidos, que son los que entran en el siguiente árbol, siendo el resultado final el del último árbol.\n",
    "\n",
    "- La versión optimizada de este último modelo es el XGBoost, que utiliza paralelización (mejora tanto la velocidad como la eficiencia computacional), para maximizar la eficiencia y la precisión general del modelo.\n",
    "________________________"
   ]
  },
  {
   "cell_type": "markdown",
   "metadata": {},
   "source": [
    "- Como primer paso, separamos la X y la y de nuestro conjunto de datos. También vamos a probar a entrenar al modelo con más datos (el 80%)."
   ]
  },
  {
   "cell_type": "code",
   "execution_count": 21,
   "metadata": {},
   "outputs": [],
   "source": [
    "X = df.drop(\"Profit\", axis = 1)\n",
    "y = df[[\"Profit\"]]\n",
    "X_train, X_test, y_train, y_test = train_test_split(X, y, train_size=0.8, random_state=42)"
   ]
  },
  {
   "cell_type": "markdown",
   "metadata": {},
   "source": [
    "- Definimos un diccionario de hiperparámetros conjunto para todos los modelos."
   ]
  },
  {
   "cell_type": "code",
   "execution_count": 22,
   "metadata": {},
   "outputs": [],
   "source": [
    "parametros_default = {\n",
    "    \"tree\": {\n",
    "        'max_depth': [5, 10, 15],\n",
    "        'min_samples_split': [2, 5, 10],\n",
    "        'min_samples_leaf': [1, 2, 5]\n",
    "    },\n",
    "    \"random_forest\": {\n",
    "        'n_estimators': [100, 200, 300],\n",
    "        'max_depth': [5, 10, 15],\n",
    "        'min_samples_split': [2, 5, 10],\n",
    "        'min_samples_leaf': [1, 2, 5]\n",
    "    },\n",
    "    \"gradient_boosting\": {\n",
    "        'n_estimators': [100, 300],\n",
    "        'learning_rate': [0.01, 0.05, 0.1],\n",
    "        'max_depth': [3, 5, 7],\n",
    "        'min_samples_split': [2, 5, 10],\n",
    "        'min_samples_leaf': [1, 2, 4],\n",
    "        'subsample': [0.8, 1.0]\n",
    "    },\n",
    "    \"xgboost\": {\n",
    "        'n_estimators': [100, 300],\n",
    "        'learning_rate': [0.01, 0.05, 0.1],\n",
    "        'max_depth': [3, 5, 7],\n",
    "        'min_child_weight': [1, 3, 5],\n",
    "        'subsample': [0.8, 1.0],\n",
    "        'colsample_bytree': [0.8, 1.0]\n",
    "    }\n",
    "}"
   ]
  },
  {
   "cell_type": "markdown",
   "metadata": {},
   "source": [
    "- Antes de probar nuestros modelos, recordemos cómo interpretamos las métricas resultantes, específicamente el R2 y el RMSE, ambas son utilizadas para evaluar la precisión de los modelos de regresión.\n",
    "\n",
    "- El R2 indica en qué porcentaje las variaciones en el modelo son explicadas por sus variables independientes. Con valores que van de 0 a 1, un valor más cercano a 1 indica un mejor ajuste del modelo.\n",
    "\n",
    "- Por otro lado, el RMSE mide la magnitud de los errores de predicción, representando la desviación estándar de las diferencias entre los valores predichos y los observados. Un valor más bajo de RMSE indica una mejor predicción. \n",
    "\n",
    "- Con esto claro, empezamos las pruebas."
   ]
  },
  {
   "cell_type": "markdown",
   "metadata": {},
   "source": [
    "## Decision Tree"
   ]
  },
  {
   "cell_type": "code",
   "execution_count": 23,
   "metadata": {},
   "outputs": [
    {
     "name": "stdout",
     "output_type": "stream",
     "text": [
      "Los mejores parámetros para el modelo con DecisionTreeRegressor() son:\n",
      "    {'max_depth': 5, 'min_samples_leaf': 5, 'min_samples_split': 10}\n",
      "    \n",
      "\n",
      "    Y sus mejores métricas son:\n"
     ]
    },
    {
     "data": {
      "text/html": [
       "<div>\n",
       "<style scoped>\n",
       "    .dataframe tbody tr th:only-of-type {\n",
       "        vertical-align: middle;\n",
       "    }\n",
       "\n",
       "    .dataframe tbody tr th {\n",
       "        vertical-align: top;\n",
       "    }\n",
       "\n",
       "    .dataframe thead th {\n",
       "        text-align: right;\n",
       "    }\n",
       "</style>\n",
       "<table border=\"1\" class=\"dataframe\">\n",
       "  <thead>\n",
       "    <tr style=\"text-align: right;\">\n",
       "      <th></th>\n",
       "      <th>r2_score</th>\n",
       "      <th>MAE</th>\n",
       "      <th>MSE</th>\n",
       "      <th>RMSE</th>\n",
       "    </tr>\n",
       "  </thead>\n",
       "  <tbody>\n",
       "    <tr>\n",
       "      <th>train</th>\n",
       "      <td>0.405537</td>\n",
       "      <td>63.405311</td>\n",
       "      <td>9723.699197</td>\n",
       "      <td>98.608819</td>\n",
       "    </tr>\n",
       "    <tr>\n",
       "      <th>test</th>\n",
       "      <td>0.394118</td>\n",
       "      <td>64.532451</td>\n",
       "      <td>10203.574176</td>\n",
       "      <td>101.012743</td>\n",
       "    </tr>\n",
       "  </tbody>\n",
       "</table>\n",
       "</div>"
      ],
      "text/plain": [
       "       r2_score        MAE           MSE        RMSE\n",
       "train  0.405537  63.405311   9723.699197   98.608819\n",
       "test   0.394118  64.532451  10203.574176  101.012743"
      ]
     },
     "metadata": {},
     "output_type": "display_data"
    }
   ],
   "source": [
    "modelo_final_tree, df_metricas_tree = sm.probar_modelo(X, y[\"Profit\"].values, X_test, y_test, parametros_default[\"tree\"], DecisionTreeRegressor())"
   ]
  },
  {
   "cell_type": "code",
   "execution_count": 24,
   "metadata": {},
   "outputs": [
    {
     "name": "stdout",
     "output_type": "stream",
     "text": [
      "Media de beneficio: 41.08\n"
     ]
    }
   ],
   "source": [
    "print(f'Media de beneficio: {round(df[\"Profit\"].mean(),2)}')"
   ]
  },
  {
   "cell_type": "markdown",
   "metadata": {},
   "source": [
    "- El resultado es malo, especialmente el R2, que nos está indicando que, las variables del modelo sólamente explican en un 40% los cambios en el modelo.\n",
    "\n",
    "- En el caso del RSME, tenemos una desviación de 100 unidades monetarias, que es alta.\n",
    "\n",
    "- No tenemos overfitting, es decir, el modelo no está aprendiéndose los datos."
   ]
  },
  {
   "cell_type": "markdown",
   "metadata": {},
   "source": [
    "## Random Forest"
   ]
  },
  {
   "cell_type": "code",
   "execution_count": 25,
   "metadata": {},
   "outputs": [
    {
     "name": "stdout",
     "output_type": "stream",
     "text": [
      "Los mejores parámetros para el modelo con RandomForestRegressor() son:\n",
      "    {'max_depth': 10, 'min_samples_leaf': 5, 'min_samples_split': 2, 'n_estimators': 300}\n",
      "    \n",
      "\n",
      "    Y sus mejores métricas son:\n"
     ]
    },
    {
     "data": {
      "text/html": [
       "<div>\n",
       "<style scoped>\n",
       "    .dataframe tbody tr th:only-of-type {\n",
       "        vertical-align: middle;\n",
       "    }\n",
       "\n",
       "    .dataframe tbody tr th {\n",
       "        vertical-align: top;\n",
       "    }\n",
       "\n",
       "    .dataframe thead th {\n",
       "        text-align: right;\n",
       "    }\n",
       "</style>\n",
       "<table border=\"1\" class=\"dataframe\">\n",
       "  <thead>\n",
       "    <tr style=\"text-align: right;\">\n",
       "      <th></th>\n",
       "      <th>r2_score</th>\n",
       "      <th>MAE</th>\n",
       "      <th>MSE</th>\n",
       "      <th>RMSE</th>\n",
       "    </tr>\n",
       "  </thead>\n",
       "  <tbody>\n",
       "    <tr>\n",
       "      <th>train</th>\n",
       "      <td>0.533568</td>\n",
       "      <td>54.714784</td>\n",
       "      <td>7629.477179</td>\n",
       "      <td>87.346878</td>\n",
       "    </tr>\n",
       "    <tr>\n",
       "      <th>test</th>\n",
       "      <td>0.530191</td>\n",
       "      <td>55.886515</td>\n",
       "      <td>7911.978639</td>\n",
       "      <td>88.949304</td>\n",
       "    </tr>\n",
       "  </tbody>\n",
       "</table>\n",
       "</div>"
      ],
      "text/plain": [
       "       r2_score        MAE          MSE       RMSE\n",
       "train  0.533568  54.714784  7629.477179  87.346878\n",
       "test   0.530191  55.886515  7911.978639  88.949304"
      ]
     },
     "metadata": {},
     "output_type": "display_data"
    }
   ],
   "source": [
    "modelo_final_rf, df_metricas_rf = sm.probar_modelo(X, y[\"Profit\"].values, X_test, y_test, parametros_default[\"random_forest\"], RandomForestRegressor())"
   ]
  },
  {
   "cell_type": "markdown",
   "metadata": {},
   "source": [
    "- En este caso, los resultados han mejorado significativamente, con un R2 que aumenta y un RMSE menor. En el caso del R2, quiere decir que, poco más de la mitad de los cambios en la variable respuesta (profit) pueden ser predichas por el modelo, mientras que la otra mitad se debe a factores no capturados por el modelo.\n",
    "\n",
    "- Veamos la importancia de nuestras variables predictoras:"
   ]
  },
  {
   "cell_type": "code",
   "execution_count": 26,
   "metadata": {},
   "outputs": [
    {
     "data": {
      "text/html": [
       "<div>\n",
       "<style scoped>\n",
       "    .dataframe tbody tr th:only-of-type {\n",
       "        vertical-align: middle;\n",
       "    }\n",
       "\n",
       "    .dataframe tbody tr th {\n",
       "        vertical-align: top;\n",
       "    }\n",
       "\n",
       "    .dataframe thead th {\n",
       "        text-align: right;\n",
       "    }\n",
       "</style>\n",
       "<table border=\"1\" class=\"dataframe\">\n",
       "  <thead>\n",
       "    <tr style=\"text-align: right;\">\n",
       "      <th></th>\n",
       "      <th>Importancia</th>\n",
       "    </tr>\n",
       "  </thead>\n",
       "  <tbody>\n",
       "    <tr>\n",
       "      <th>Discount</th>\n",
       "      <td>0.515138</td>\n",
       "    </tr>\n",
       "    <tr>\n",
       "      <th>Sub-Category</th>\n",
       "      <td>0.190183</td>\n",
       "    </tr>\n",
       "    <tr>\n",
       "      <th>Quantity</th>\n",
       "      <td>0.147683</td>\n",
       "    </tr>\n",
       "    <tr>\n",
       "      <th>Country</th>\n",
       "      <td>0.057436</td>\n",
       "    </tr>\n",
       "    <tr>\n",
       "      <th>Ship Mode</th>\n",
       "      <td>0.023973</td>\n",
       "    </tr>\n",
       "    <tr>\n",
       "      <th>Region</th>\n",
       "      <td>0.019661</td>\n",
       "    </tr>\n",
       "    <tr>\n",
       "      <th>Order Priority</th>\n",
       "      <td>0.019616</td>\n",
       "    </tr>\n",
       "    <tr>\n",
       "      <th>Market</th>\n",
       "      <td>0.017255</td>\n",
       "    </tr>\n",
       "    <tr>\n",
       "      <th>Category</th>\n",
       "      <td>0.009055</td>\n",
       "    </tr>\n",
       "  </tbody>\n",
       "</table>\n",
       "</div>"
      ],
      "text/plain": [
       "                Importancia\n",
       "Discount           0.515138\n",
       "Sub-Category       0.190183\n",
       "Quantity           0.147683\n",
       "Country            0.057436\n",
       "Ship Mode          0.023973\n",
       "Region             0.019661\n",
       "Order Priority     0.019616\n",
       "Market             0.017255\n",
       "Category           0.009055"
      ]
     },
     "execution_count": 26,
     "metadata": {},
     "output_type": "execute_result"
    }
   ],
   "source": [
    "df_importancia_rf = pd.DataFrame(modelo_final_rf.feature_importances_, columns= [\"Importancia\"], index=X.columns).sort_values(by=\"Importancia\", ascending = False)\n",
    "df_importancia_rf"
   ]
  },
  {
   "cell_type": "code",
   "execution_count": 27,
   "metadata": {},
   "outputs": [
    {
     "data": {
      "text/plain": [
       "<Axes: xlabel='Importancia', ylabel='None'>"
      ]
     },
     "execution_count": 27,
     "metadata": {},
     "output_type": "execute_result"
    },
    {
     "data": {
      "image/png": "[encoded data removed]",
      "text/plain": [
       "<Figure size 640x480 with 1 Axes>"
      ]
     },
     "metadata": {},
     "output_type": "display_data"
    }
   ],
   "source": [
    "sns.barplot(x = \"Importancia\", y= df_importancia_rf.index, data = df_importancia_rf)"
   ]
  },
  {
   "cell_type": "markdown",
   "metadata": {},
   "source": [
    "- Vemos que, con diferencia, discount es la variable predictora más importante, mientras que hay un grupo de ellas -Ship Mode, Order Priority, Region, Market y Category- que, en conjunto, sólo explican un 8% de los cambios en el modelo.\n",
    "\n",
    "- Vamos a eliminarlas y probar si obtenemos un mejor resultado."
   ]
  },
  {
   "cell_type": "code",
   "execution_count": 28,
   "metadata": {},
   "outputs": [],
   "source": [
    "columnas_a_eliminar = ['Ship Mode','Market','Region','Order Priority','Category']\n",
    "\n",
    "X_train_reducida = X_train.drop(columns=columnas_a_eliminar)\n",
    "X_test_reducida = X_test.drop(columns=columnas_a_eliminar)"
   ]
  },
  {
   "cell_type": "markdown",
   "metadata": {},
   "source": [
    "- Ahora reentrenamos al modelo, ajustando ligeramente los parámetros."
   ]
  },
  {
   "cell_type": "code",
   "execution_count": 29,
   "metadata": {},
   "outputs": [
    {
     "name": "stdout",
     "output_type": "stream",
     "text": [
      "Los mejores parámetros para el modelo con RandomForestRegressor() son:\n",
      "    {'max_depth': 10, 'min_samples_leaf': 5, 'min_samples_split': 10, 'n_estimators': 300}\n",
      "    \n",
      "\n",
      "    Y sus mejores métricas son:\n"
     ]
    },
    {
     "data": {
      "text/html": [
       "<div>\n",
       "<style scoped>\n",
       "    .dataframe tbody tr th:only-of-type {\n",
       "        vertical-align: middle;\n",
       "    }\n",
       "\n",
       "    .dataframe tbody tr th {\n",
       "        vertical-align: top;\n",
       "    }\n",
       "\n",
       "    .dataframe thead th {\n",
       "        text-align: right;\n",
       "    }\n",
       "</style>\n",
       "<table border=\"1\" class=\"dataframe\">\n",
       "  <thead>\n",
       "    <tr style=\"text-align: right;\">\n",
       "      <th></th>\n",
       "      <th>r2_score</th>\n",
       "      <th>MAE</th>\n",
       "      <th>MSE</th>\n",
       "      <th>RMSE</th>\n",
       "    </tr>\n",
       "  </thead>\n",
       "  <tbody>\n",
       "    <tr>\n",
       "      <th>train</th>\n",
       "      <td>0.512688</td>\n",
       "      <td>55.633822</td>\n",
       "      <td>7911.189532</td>\n",
       "      <td>88.944868</td>\n",
       "    </tr>\n",
       "    <tr>\n",
       "      <th>test</th>\n",
       "      <td>0.432383</td>\n",
       "      <td>61.136244</td>\n",
       "      <td>9559.153272</td>\n",
       "      <td>97.770922</td>\n",
       "    </tr>\n",
       "  </tbody>\n",
       "</table>\n",
       "</div>"
      ],
      "text/plain": [
       "       r2_score        MAE          MSE       RMSE\n",
       "train  0.512688  55.633822  7911.189532  88.944868\n",
       "test   0.432383  61.136244  9559.153272  97.770922"
      ]
     },
     "metadata": {},
     "output_type": "display_data"
    }
   ],
   "source": [
    "modelo_final_rf_v2, df_metricas_rf_v2 = sm.probar_modelo(X_train_reducida, y_train[\"Profit\"].values, X_test_reducida, y_test, parametros_default[\"random_forest\"], RandomForestRegressor())"
   ]
  },
  {
   "cell_type": "markdown",
   "metadata": {},
   "source": [
    "- Vemos que, las métricas han disminuido, así que, no sería este el acercamiento correcto (eliminar variables). Hemos generado además un ligero overtfitting."
   ]
  },
  {
   "cell_type": "markdown",
   "metadata": {},
   "source": [
    "## Gradient Boost"
   ]
  },
  {
   "cell_type": "code",
   "execution_count": 30,
   "metadata": {},
   "outputs": [
    {
     "name": "stdout",
     "output_type": "stream",
     "text": [
      "Los mejores parámetros para el modelo con GradientBoostingRegressor() son:\n",
      "    {'learning_rate': 0.05, 'max_depth': 5, 'min_samples_leaf': 4, 'min_samples_split': 2, 'n_estimators': 100, 'subsample': 0.8}\n",
      "    \n",
      "\n",
      "    Y sus mejores métricas son:\n"
     ]
    },
    {
     "data": {
      "text/html": [
       "<div>\n",
       "<style scoped>\n",
       "    .dataframe tbody tr th:only-of-type {\n",
       "        vertical-align: middle;\n",
       "    }\n",
       "\n",
       "    .dataframe tbody tr th {\n",
       "        vertical-align: top;\n",
       "    }\n",
       "\n",
       "    .dataframe thead th {\n",
       "        text-align: right;\n",
       "    }\n",
       "</style>\n",
       "<table border=\"1\" class=\"dataframe\">\n",
       "  <thead>\n",
       "    <tr style=\"text-align: right;\">\n",
       "      <th></th>\n",
       "      <th>r2_score</th>\n",
       "      <th>MAE</th>\n",
       "      <th>MSE</th>\n",
       "      <th>RMSE</th>\n",
       "    </tr>\n",
       "  </thead>\n",
       "  <tbody>\n",
       "    <tr>\n",
       "      <th>train</th>\n",
       "      <td>0.484499</td>\n",
       "      <td>57.568068</td>\n",
       "      <td>8432.107029</td>\n",
       "      <td>91.826505</td>\n",
       "    </tr>\n",
       "    <tr>\n",
       "      <th>test</th>\n",
       "      <td>0.476297</td>\n",
       "      <td>58.701076</td>\n",
       "      <td>8819.605987</td>\n",
       "      <td>93.912757</td>\n",
       "    </tr>\n",
       "  </tbody>\n",
       "</table>\n",
       "</div>"
      ],
      "text/plain": [
       "       r2_score        MAE          MSE       RMSE\n",
       "train  0.484499  57.568068  8432.107029  91.826505\n",
       "test   0.476297  58.701076  8819.605987  93.912757"
      ]
     },
     "metadata": {},
     "output_type": "display_data"
    }
   ],
   "source": [
    "modelo_final_gb, df_metricas_gb = sm.probar_modelo(X, y[\"Profit\"].values, X_test, y_test, parametros_default[\"gradient_boosting\"], GradientBoostingRegressor())"
   ]
  },
  {
   "cell_type": "markdown",
   "metadata": {},
   "source": [
    "- Damos otro paso atrás, y vemos que, tanto el R2 como el RMSE han empeorado respecto al Random Forest, aunque se mantienen cercanos a los resultados obtenidos de los otros modelos y sin overfitting."
   ]
  },
  {
   "cell_type": "markdown",
   "metadata": {},
   "source": [
    "- En general, dado que los resultados de:\n",
    "    - no quitar outliers,\n",
    "    - probar distintos tipos de estandarización,\n",
    "    - estandarizar sólo las columnas numéricas y\n",
    "    - aumentar el train size,\n",
    "- no han sido los esperados, nos quedaremos con los resultados de los modelos 1, y no aplicaremos estas pruebas al cluster 1."
   ]
  }
 ],
 "metadata": {
  "kernelspec": {
   "display_name": "Python 3",
   "language": "python",
   "name": "python3"
  },
  "language_info": {
   "codemirror_mode": {
    "name": "ipython",
    "version": 3
   },
   "file_extension": ".py",
   "mimetype": "text/x-python",
   "name": "python",
   "nbconvert_exporter": "python",
   "pygments_lexer": "ipython3",
   "version": "3.9.6"
  }
 },
 "nbformat": 4,
 "nbformat_minor": 2
}
