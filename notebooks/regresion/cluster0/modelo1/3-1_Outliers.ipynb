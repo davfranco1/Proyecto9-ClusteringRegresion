{
 "cells": [
  {
   "cell_type": "markdown",
   "metadata": {},
   "source": [
    "# Notebook #3: Gestión de Outliers"
   ]
  },
  {
   "cell_type": "code",
   "execution_count": 22,
   "metadata": {},
   "outputs": [
    {
     "name": "stdout",
     "output_type": "stream",
     "text": [
      "The autoreload extension is already loaded. To reload it, use:\n",
      "  %reload_ext autoreload\n"
     ]
    }
   ],
   "source": [
    "%load_ext autoreload\n",
    "%autoreload 2\n",
    "\n",
    "# Tratamiento de datos\n",
    "# -----------------------------------------------------------------------\n",
    "import pandas as pd\n",
    "import numpy as np\n",
    "import pickle\n",
    "\n",
    "# Configuración\n",
    "# -----------------------------------------------------------------------\n",
    "pd.set_option('display.max_columns', None) # para poder visualizar todas las columnas de los DataFrames\n",
    "\n",
    "# Ignorar los warnings\n",
    "# -----------------------------------------------------------------------\n",
    "import warnings\n",
    "warnings.filterwarnings('ignore')\n",
    "\n",
    "# Librería para el acceso a variables y funciones\n",
    "# -----------------------------------------------------------------------\n",
    "import sys\n",
    "sys.path.append(\"../../../../\")\n",
    "from src import soporte_preprocesamiento as sp"
   ]
  },
  {
   "cell_type": "markdown",
   "metadata": {},
   "source": [
    "- Importamos el dataframe generado en el notebook anterior."
   ]
  },
  {
   "cell_type": "code",
   "execution_count": 23,
   "metadata": {},
   "outputs": [
    {
     "data": {
      "text/html": [
       "<div>\n",
       "<style scoped>\n",
       "    .dataframe tbody tr th:only-of-type {\n",
       "        vertical-align: middle;\n",
       "    }\n",
       "\n",
       "    .dataframe tbody tr th {\n",
       "        vertical-align: top;\n",
       "    }\n",
       "\n",
       "    .dataframe thead th {\n",
       "        text-align: right;\n",
       "    }\n",
       "</style>\n",
       "<table border=\"1\" class=\"dataframe\">\n",
       "  <thead>\n",
       "    <tr style=\"text-align: right;\">\n",
       "      <th></th>\n",
       "      <th>Profit</th>\n",
       "      <th>Ship Mode</th>\n",
       "      <th>Country</th>\n",
       "      <th>Market</th>\n",
       "      <th>Region</th>\n",
       "      <th>Category</th>\n",
       "      <th>Sub-Category</th>\n",
       "      <th>Quantity</th>\n",
       "      <th>Discount</th>\n",
       "      <th>Order Priority</th>\n",
       "    </tr>\n",
       "  </thead>\n",
       "  <tbody>\n",
       "    <tr>\n",
       "      <th>0</th>\n",
       "      <td>762.1845</td>\n",
       "      <td>39.642779</td>\n",
       "      <td>30.854121</td>\n",
       "      <td>30.854121</td>\n",
       "      <td>25.856881</td>\n",
       "      <td>55.868216</td>\n",
       "      <td>41.652012</td>\n",
       "      <td>7</td>\n",
       "      <td>0.0</td>\n",
       "      <td>30.524541</td>\n",
       "    </tr>\n",
       "    <tr>\n",
       "      <th>1</th>\n",
       "      <td>-288.7650</td>\n",
       "      <td>37.882985</td>\n",
       "      <td>49.866027</td>\n",
       "      <td>56.443719</td>\n",
       "      <td>44.789167</td>\n",
       "      <td>32.942193</td>\n",
       "      <td>41.093914</td>\n",
       "      <td>9</td>\n",
       "      <td>0.1</td>\n",
       "      <td>30.524541</td>\n",
       "    </tr>\n",
       "    <tr>\n",
       "      <th>2</th>\n",
       "      <td>311.5200</td>\n",
       "      <td>39.642779</td>\n",
       "      <td>67.711866</td>\n",
       "      <td>32.792245</td>\n",
       "      <td>32.792245</td>\n",
       "      <td>55.868216</td>\n",
       "      <td>89.905757</td>\n",
       "      <td>8</td>\n",
       "      <td>0.0</td>\n",
       "      <td>30.524541</td>\n",
       "    </tr>\n",
       "    <tr>\n",
       "      <th>3</th>\n",
       "      <td>763.2750</td>\n",
       "      <td>37.882985</td>\n",
       "      <td>49.866027</td>\n",
       "      <td>56.443719</td>\n",
       "      <td>44.789167</td>\n",
       "      <td>55.868216</td>\n",
       "      <td>52.426690</td>\n",
       "      <td>5</td>\n",
       "      <td>0.1</td>\n",
       "      <td>30.524541</td>\n",
       "    </tr>\n",
       "    <tr>\n",
       "      <th>4</th>\n",
       "      <td>564.8400</td>\n",
       "      <td>36.787755</td>\n",
       "      <td>25.592859</td>\n",
       "      <td>56.443719</td>\n",
       "      <td>44.789167</td>\n",
       "      <td>32.942193</td>\n",
       "      <td>41.093914</td>\n",
       "      <td>4</td>\n",
       "      <td>0.0</td>\n",
       "      <td>30.524541</td>\n",
       "    </tr>\n",
       "  </tbody>\n",
       "</table>\n",
       "</div>"
      ],
      "text/plain": [
       "     Profit  Ship Mode    Country     Market     Region   Category  \\\n",
       "0  762.1845  39.642779  30.854121  30.854121  25.856881  55.868216   \n",
       "1 -288.7650  37.882985  49.866027  56.443719  44.789167  32.942193   \n",
       "2  311.5200  39.642779  67.711866  32.792245  32.792245  55.868216   \n",
       "3  763.2750  37.882985  49.866027  56.443719  44.789167  55.868216   \n",
       "4  564.8400  36.787755  25.592859  56.443719  44.789167  32.942193   \n",
       "\n",
       "   Sub-Category  Quantity  Discount  Order Priority  \n",
       "0     41.652012         7       0.0       30.524541  \n",
       "1     41.093914         9       0.1       30.524541  \n",
       "2     89.905757         8       0.0       30.524541  \n",
       "3     52.426690         5       0.1       30.524541  \n",
       "4     41.093914         4       0.0       30.524541  "
      ]
     },
     "execution_count": 23,
     "metadata": {},
     "output_type": "execute_result"
    }
   ],
   "source": [
    "df = pd.read_pickle('../../../../datos/cluster0/modelo1/df_encoded.pkl')\n",
    "df.head()"
   ]
  },
  {
   "cell_type": "markdown",
   "metadata": {},
   "source": [
    "- Transformamos temporalmente las columnas que deben ser categóricas pero durante el encoding se han convertido en numéricas."
   ]
  },
  {
   "cell_type": "code",
   "execution_count": 24,
   "metadata": {},
   "outputs": [],
   "source": [
    "df[['Ship Mode', 'Country', 'Market', 'Region', 'Category', 'Sub-Category', 'Order Priority']] = df[['Ship Mode', 'Country', 'Market', 'Region', 'Category', 'Sub-Category', 'Order Priority']].astype(str)"
   ]
  },
  {
   "cell_type": "markdown",
   "metadata": {},
   "source": [
    "- Como hemos detectado en el EDA, tenemos outliers en las tres features numéricas. Los de Quantity y Discount, se encuentran dentro de los valores normales (lo vemos en la escala), y en el caso de Profit, surgen de la variabilidad propia que puede tener una categoría como esta. Lo vemos en los box plots:"
   ]
  },
  {
   "cell_type": "code",
   "execution_count": 25,
   "metadata": {},
   "outputs": [
    {
     "data": {
      "image/png": "[encoded data removed]",
      "text/plain": [
       "<Figure size 2000x300 with 3 Axes>"
      ]
     },
     "metadata": {},
     "output_type": "display_data"
    }
   ],
   "source": [
    "sp.detectar_outliers(df, tamano_grafica=(20,3))"
   ]
  },
  {
   "cell_type": "markdown",
   "metadata": {},
   "source": [
    "- Para verlos numéricamente, vamos a recurrir al método IFO."
   ]
  },
  {
   "cell_type": "code",
   "execution_count": 26,
   "metadata": {},
   "outputs": [],
   "source": [
    "df = sp.outliers_isolation_forest(df)"
   ]
  },
  {
   "cell_type": "markdown",
   "metadata": {},
   "source": [
    "- Filtramos aquellos para los cuáles en el 70% de las combinacines, son outliers. Sabiendo que representan un 1,4% del conjunto original, los vamos a eliminar."
   ]
  },
  {
   "cell_type": "code",
   "execution_count": 27,
   "metadata": {},
   "outputs": [
    {
     "name": "stdout",
     "output_type": "stream",
     "text": [
      "Se han filtrado 251 filas, que representan un 1.39% del dataframe original.\n"
     ]
    },
    {
     "data": {
      "text/html": [
       "<div>\n",
       "<style scoped>\n",
       "    .dataframe tbody tr th:only-of-type {\n",
       "        vertical-align: middle;\n",
       "    }\n",
       "\n",
       "    .dataframe tbody tr th {\n",
       "        vertical-align: top;\n",
       "    }\n",
       "\n",
       "    .dataframe thead th {\n",
       "        text-align: right;\n",
       "    }\n",
       "</style>\n",
       "<table border=\"1\" class=\"dataframe\">\n",
       "  <thead>\n",
       "    <tr style=\"text-align: right;\">\n",
       "      <th></th>\n",
       "      <th>Profit</th>\n",
       "      <th>Ship Mode</th>\n",
       "      <th>Country</th>\n",
       "      <th>Market</th>\n",
       "      <th>Region</th>\n",
       "      <th>Category</th>\n",
       "      <th>Sub-Category</th>\n",
       "      <th>Quantity</th>\n",
       "      <th>Discount</th>\n",
       "      <th>Order Priority</th>\n",
       "      <th>outliers_ifo_0.01_50</th>\n",
       "      <th>outliers_ifo_0.01_100</th>\n",
       "      <th>outliers_ifo_0.01_200</th>\n",
       "      <th>outliers_ifo_0.05_50</th>\n",
       "      <th>outliers_ifo_0.05_100</th>\n",
       "      <th>outliers_ifo_0.05_200</th>\n",
       "      <th>outliers_ifo_0.1_50</th>\n",
       "      <th>outliers_ifo_0.1_100</th>\n",
       "      <th>outliers_ifo_0.1_200</th>\n",
       "    </tr>\n",
       "  </thead>\n",
       "  <tbody>\n",
       "    <tr>\n",
       "      <th>0</th>\n",
       "      <td>762.1845</td>\n",
       "      <td>39.64277935973041</td>\n",
       "      <td>30.85412115438498</td>\n",
       "      <td>30.85412115438498</td>\n",
       "      <td>25.856881243926143</td>\n",
       "      <td>55.86821605918619</td>\n",
       "      <td>41.652012319422155</td>\n",
       "      <td>7</td>\n",
       "      <td>0.00</td>\n",
       "      <td>30.524540570542634</td>\n",
       "      <td>1</td>\n",
       "      <td>-1</td>\n",
       "      <td>1</td>\n",
       "      <td>-1</td>\n",
       "      <td>-1</td>\n",
       "      <td>-1</td>\n",
       "      <td>-1</td>\n",
       "      <td>-1</td>\n",
       "      <td>-1</td>\n",
       "    </tr>\n",
       "    <tr>\n",
       "      <th>3</th>\n",
       "      <td>763.2750</td>\n",
       "      <td>37.882985008863</td>\n",
       "      <td>49.86602719854941</td>\n",
       "      <td>56.443718752974775</td>\n",
       "      <td>44.78916727538349</td>\n",
       "      <td>55.86821605918619</td>\n",
       "      <td>52.42669001495886</td>\n",
       "      <td>5</td>\n",
       "      <td>0.10</td>\n",
       "      <td>30.524540570542634</td>\n",
       "      <td>-1</td>\n",
       "      <td>1</td>\n",
       "      <td>1</td>\n",
       "      <td>-1</td>\n",
       "      <td>-1</td>\n",
       "      <td>-1</td>\n",
       "      <td>-1</td>\n",
       "      <td>-1</td>\n",
       "      <td>-1</td>\n",
       "    </tr>\n",
       "    <tr>\n",
       "      <th>13</th>\n",
       "      <td>526.4960</td>\n",
       "      <td>36.7877545267746</td>\n",
       "      <td>90.57587985847107</td>\n",
       "      <td>32.22489629515757</td>\n",
       "      <td>40.43031163500133</td>\n",
       "      <td>32.94219345675881</td>\n",
       "      <td>-19.819527429467087</td>\n",
       "      <td>8</td>\n",
       "      <td>0.20</td>\n",
       "      <td>30.524540570542634</td>\n",
       "      <td>-1</td>\n",
       "      <td>1</td>\n",
       "      <td>1</td>\n",
       "      <td>-1</td>\n",
       "      <td>-1</td>\n",
       "      <td>-1</td>\n",
       "      <td>-1</td>\n",
       "      <td>-1</td>\n",
       "      <td>-1</td>\n",
       "    </tr>\n",
       "    <tr>\n",
       "      <th>17</th>\n",
       "      <td>763.1550</td>\n",
       "      <td>36.7877545267746</td>\n",
       "      <td>52.25578428093645</td>\n",
       "      <td>55.5021357615894</td>\n",
       "      <td>40.43031163500133</td>\n",
       "      <td>55.86821605918619</td>\n",
       "      <td>42.485023549488055</td>\n",
       "      <td>9</td>\n",
       "      <td>0.15</td>\n",
       "      <td>30.524540570542634</td>\n",
       "      <td>-1</td>\n",
       "      <td>-1</td>\n",
       "      <td>-1</td>\n",
       "      <td>-1</td>\n",
       "      <td>-1</td>\n",
       "      <td>-1</td>\n",
       "      <td>-1</td>\n",
       "      <td>-1</td>\n",
       "      <td>-1</td>\n",
       "    </tr>\n",
       "    <tr>\n",
       "      <th>25</th>\n",
       "      <td>720.7500</td>\n",
       "      <td>39.64277935973041</td>\n",
       "      <td>52.25578428093645</td>\n",
       "      <td>55.5021357615894</td>\n",
       "      <td>40.43031163500133</td>\n",
       "      <td>32.94219345675881</td>\n",
       "      <td>41.093914463566456</td>\n",
       "      <td>5</td>\n",
       "      <td>0.10</td>\n",
       "      <td>30.524540570542634</td>\n",
       "      <td>-1</td>\n",
       "      <td>1</td>\n",
       "      <td>1</td>\n",
       "      <td>-1</td>\n",
       "      <td>-1</td>\n",
       "      <td>-1</td>\n",
       "      <td>-1</td>\n",
       "      <td>-1</td>\n",
       "      <td>-1</td>\n",
       "    </tr>\n",
       "  </tbody>\n",
       "</table>\n",
       "</div>"
      ],
      "text/plain": [
       "      Profit          Ship Mode            Country              Market  \\\n",
       "0   762.1845  39.64277935973041  30.85412115438498   30.85412115438498   \n",
       "3   763.2750    37.882985008863  49.86602719854941  56.443718752974775   \n",
       "13  526.4960   36.7877545267746  90.57587985847107   32.22489629515757   \n",
       "17  763.1550   36.7877545267746  52.25578428093645    55.5021357615894   \n",
       "25  720.7500  39.64277935973041  52.25578428093645    55.5021357615894   \n",
       "\n",
       "                Region           Category         Sub-Category  Quantity  \\\n",
       "0   25.856881243926143  55.86821605918619   41.652012319422155         7   \n",
       "3    44.78916727538349  55.86821605918619    52.42669001495886         5   \n",
       "13   40.43031163500133  32.94219345675881  -19.819527429467087         8   \n",
       "17   40.43031163500133  55.86821605918619   42.485023549488055         9   \n",
       "25   40.43031163500133  32.94219345675881   41.093914463566456         5   \n",
       "\n",
       "    Discount      Order Priority  outliers_ifo_0.01_50  outliers_ifo_0.01_100  \\\n",
       "0       0.00  30.524540570542634                     1                     -1   \n",
       "3       0.10  30.524540570542634                    -1                      1   \n",
       "13      0.20  30.524540570542634                    -1                      1   \n",
       "17      0.15  30.524540570542634                    -1                     -1   \n",
       "25      0.10  30.524540570542634                    -1                      1   \n",
       "\n",
       "    outliers_ifo_0.01_200  outliers_ifo_0.05_50  outliers_ifo_0.05_100  \\\n",
       "0                       1                    -1                     -1   \n",
       "3                       1                    -1                     -1   \n",
       "13                      1                    -1                     -1   \n",
       "17                     -1                    -1                     -1   \n",
       "25                      1                    -1                     -1   \n",
       "\n",
       "    outliers_ifo_0.05_200  outliers_ifo_0.1_50  outliers_ifo_0.1_100  \\\n",
       "0                      -1                   -1                    -1   \n",
       "3                      -1                   -1                    -1   \n",
       "13                     -1                   -1                    -1   \n",
       "17                     -1                   -1                    -1   \n",
       "25                     -1                   -1                    -1   \n",
       "\n",
       "    outliers_ifo_0.1_200  \n",
       "0                     -1  \n",
       "3                     -1  \n",
       "13                    -1  \n",
       "17                    -1  \n",
       "25                    -1  "
      ]
     },
     "metadata": {},
     "output_type": "display_data"
    },
    {
     "name": "stdout",
     "output_type": "stream",
     "text": [
      "Se han eliminado 251 filas (1.0%) del dataframe original.\n"
     ]
    }
   ],
   "source": [
    "df, df_filtrado = sp.filtrar_outliers(df, 0.7, drop_indices=True)\n",
    "df.reset_index(inplace=True, drop=True)"
   ]
  },
  {
   "cell_type": "markdown",
   "metadata": {},
   "source": [
    "- Y nuevamente con la ayuda de los boxplots, vemos que, nuestras features ahora se encuentran más libres de outliers."
   ]
  },
  {
   "cell_type": "code",
   "execution_count": 28,
   "metadata": {},
   "outputs": [
    {
     "data": {
      "image/png": "[encoded data removed]",
      "text/plain": [
       "<Figure size 2000x300 with 3 Axes>"
      ]
     },
     "metadata": {},
     "output_type": "display_data"
    }
   ],
   "source": [
    "sp.detectar_outliers(df_filtrado, tamano_grafica=(20,3))"
   ]
  },
  {
   "cell_type": "markdown",
   "metadata": {},
   "source": [
    "- Como último paso, guardamos el DF para llevarlo al siguiente paso: la estandarización."
   ]
  },
  {
   "cell_type": "code",
   "execution_count": 31,
   "metadata": {},
   "outputs": [],
   "source": [
    "with open('../../../../datos/cluster0/modelo1/df_sinoutliers.pkl', 'wb') as f:\n",
    "    pickle.dump(df, f)"
   ]
  }
 ],
 "metadata": {
  "kernelspec": {
   "display_name": "Python 3",
   "language": "python",
   "name": "python3"
  },
  "language_info": {
   "codemirror_mode": {
    "name": "ipython",
    "version": 3
   },
   "file_extension": ".py",
   "mimetype": "text/x-python",
   "name": "python",
   "nbconvert_exporter": "python",
   "pygments_lexer": "ipython3",
   "version": "3.9.6"
  }
 },
 "nbformat": 4,
 "nbformat_minor": 2
}
